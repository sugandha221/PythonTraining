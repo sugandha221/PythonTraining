{
 "cells": [
  {
   "cell_type": "code",
   "execution_count": 1,
   "metadata": {},
   "outputs": [
    {
     "name": "stdout",
     "output_type": "stream",
     "text": [
      "['life is beautiful', 'need overthink', 'meditation helps overcoming depression']\n"
     ]
    }
   ],
   "source": [
    "# Question 1\n",
    "text = [\"Life is always beautiful\", \"No need to overthink\",\n",
    "        \"Meditation helps in overcoming your depression\"]\n",
    "text1 = []\n",
    "remove = [' always', ' in', ' to', ' no', ' your', 'always ',\n",
    "          'in ', 'to ', 'no ', 'your ']\n",
    "for i in text:\n",
    "    for j in remove:\n",
    "        if j in i.lower():\n",
    "            i = (i.lower()).replace(j, \"\")\n",
    "    text1.append(i)\n",
    "print(text1)\n"
   ]
  },
  {
   "cell_type": "code",
   "execution_count": 2,
   "metadata": {},
   "outputs": [
    {
     "name": "stdout",
     "output_type": "stream",
     "text": [
      "[10, 20, 30, 40, 50, 60, 70, 80, 90, 100, 110, 120, 130, 140, 150, 160, 170, 180, 190, 200]\n"
     ]
    }
   ],
   "source": [
    "# Question 2\n",
    "s = [i for i in range(2, 201, 2)]\n",
    "x = [i for i in s if i % 5 == 0]    # List Comprehension\n",
    "print(x)\n"
   ]
  },
  {
   "cell_type": "code",
   "execution_count": 5,
   "metadata": {},
   "outputs": [
    {
     "name": "stdout",
     "output_type": "stream",
     "text": [
      "1,1,1,2\n",
      "[[1, 1, 1], [1, 0, 0], [0, 1, 0], [0, 0, 1], [0, 0, 0]]\n"
     ]
    }
   ],
   "source": [
    "# Question 3\n",
    "lst = input()\n",
    "x, y, z, n = lst.split(',')\n",
    "x = int(x)\n",
    "y = int(y)\n",
    "z = int(z)\n",
    "n = int(n)\n",
    "print([[i, j, k] for i in range(x, -1, -1) for j in range(y, -1, -1)\n",
    "      for k in range(z, -1, -1) if ((i + j + k) != n)])\n"
   ]
  },
  {
   "cell_type": "code",
   "execution_count": null,
   "metadata": {},
   "outputs": [],
   "source": []
  },
  {
   "cell_type": "code",
   "execution_count": null,
   "metadata": {},
   "outputs": [],
   "source": []
  },
  {
   "cell_type": "code",
   "execution_count": null,
   "metadata": {},
   "outputs": [],
   "source": []
  }
 ],
 "metadata": {
  "kernelspec": {
   "display_name": "Python 3",
   "language": "python",
   "name": "python3"
  },
  "language_info": {
   "codemirror_mode": {
    "name": "ipython",
    "version": 3
   },
   "file_extension": ".py",
   "mimetype": "text/x-python",
   "name": "python",
   "nbconvert_exporter": "python",
   "pygments_lexer": "ipython3",
   "version": "3.6.11"
  }
 },
 "nbformat": 4,
 "nbformat_minor": 4
}
