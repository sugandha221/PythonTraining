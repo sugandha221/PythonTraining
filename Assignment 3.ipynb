{
 "cells": [
  {
   "cell_type": "code",
   "execution_count": 1,
   "metadata": {},
   "outputs": [
    {
     "name": "stdout",
     "output_type": "stream",
     "text": [
      "Enter a string hello\n",
      "HelLo\n"
     ]
    }
   ],
   "source": [
    "# Question 1\n",
    "def inv(string):\n",
    "    l = []\n",
    "    for i in range(0, len(string)):\n",
    "        if i == 0:      # Checking case for first letter\n",
    "            if string[i].islower():\n",
    "                l.append(string[i].upper())\n",
    "            else:\n",
    "                l.append(string[i].lower())\n",
    "        elif i == 3:     # Checking case for fourth letter\n",
    "            if string[i].islower():\n",
    "                l.append(string[i].upper())\n",
    "            else:\n",
    "                l.append(string[i].lower())\n",
    "        else:\n",
    "            l.append(string[i])\n",
    "    return ''.join(l)\n",
    "\n",
    "print(inv(input(\"Enter a string \")))\n"
   ]
  },
  {
   "cell_type": "code",
   "execution_count": 6,
   "metadata": {},
   "outputs": [
    {
     "name": "stdout",
     "output_type": "stream",
     "text": [
      "Enter a string 145\n",
      "111445"
     ]
    }
   ],
   "source": [
    "# Question 2\n",
    "def lettercnt(string):\n",
    "    for i in range(0, len(string)):\n",
    "        print(string[i]*(len(string)-i), end=\"\")\n",
    "\n",
    "lettercnt(input(\"Enter a string \"))\n"
   ]
  },
  {
   "cell_type": "code",
   "execution_count": 12,
   "metadata": {},
   "outputs": [
    {
     "name": "stdout",
     "output_type": "stream",
     "text": [
      "Enter a string hello world python\n",
      "python world hello\n"
     ]
    }
   ],
   "source": [
    "# Question 3\n",
    "def rev(string):\n",
    "    l = string.split()\n",
    "    l = l[-1::-1]      # Reversing the words order\n",
    "    return(' '.join(l))\n",
    "\n",
    "print(rev(input(\"Enter a string \")))\n"
   ]
  },
  {
   "cell_type": "code",
   "execution_count": null,
   "metadata": {},
   "outputs": [],
   "source": []
  },
  {
   "cell_type": "code",
   "execution_count": null,
   "metadata": {},
   "outputs": [],
   "source": []
  },
  {
   "cell_type": "code",
   "execution_count": null,
   "metadata": {},
   "outputs": [],
   "source": []
  },
  {
   "cell_type": "code",
   "execution_count": null,
   "metadata": {},
   "outputs": [],
   "source": []
  },
  {
   "cell_type": "code",
   "execution_count": null,
   "metadata": {},
   "outputs": [],
   "source": []
  },
  {
   "cell_type": "code",
   "execution_count": null,
   "metadata": {},
   "outputs": [],
   "source": []
  },
  {
   "cell_type": "code",
   "execution_count": null,
   "metadata": {},
   "outputs": [],
   "source": [
    "1"
   ]
  },
  {
   "cell_type": "code",
   "execution_count": null,
   "metadata": {},
   "outputs": [],
   "source": []
  },
  {
   "cell_type": "code",
   "execution_count": null,
   "metadata": {},
   "outputs": [],
   "source": []
  },
  {
   "cell_type": "code",
   "execution_count": null,
   "metadata": {},
   "outputs": [],
   "source": []
  },
  {
   "cell_type": "code",
   "execution_count": null,
   "metadata": {},
   "outputs": [],
   "source": []
  }
 ],
 "metadata": {
  "kernelspec": {
   "display_name": "Python 3",
   "language": "python",
   "name": "python3"
  },
  "language_info": {
   "codemirror_mode": {
    "name": "ipython",
    "version": 3
   },
   "file_extension": ".py",
   "mimetype": "text/x-python",
   "name": "python",
   "nbconvert_exporter": "python",
   "pygments_lexer": "ipython3",
   "version": "3.6.11"
  }
 },
 "nbformat": 4,
 "nbformat_minor": 4
}
