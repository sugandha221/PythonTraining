{
 "cells": [
  {
   "cell_type": "code",
   "execution_count": 5,
   "metadata": {},
   "outputs": [
    {
     "name": "stdout",
     "output_type": "stream",
     "text": [
      "Enter the length: 2\n",
      "Enter the breadth: 3\n",
      "AREA: 6\n",
      "PERIMETER: 10\n"
     ]
    }
   ],
   "source": [
    "# Question 1\n",
    "class Shape:\n",
    "    def __init__(self, x, y):\n",
    "        self.x = x\n",
    "        self.y = y\n",
    "    def area(self):\n",
    "        print(\"AREA: \"+str(self.x * self.y))\n",
    "    def perimeter(self):\n",
    "        print(\"PERIMETER: \"+str(2*(self.x + self.y)))\n",
    "\n",
    "l = int(input(\"Enter the length: \"))\n",
    "b = int(input(\"Enter the breadth: \"))\n",
    "s = Shape(l, b)\n",
    "s.area()\n",
    "s.perimeter()"
   ]
  },
  {
   "cell_type": "code",
   "execution_count": 6,
   "metadata": {},
   "outputs": [
    {
     "name": "stdout",
     "output_type": "stream",
     "text": [
      "Enter the length: 2\n",
      "Enter the breadth: 3\n",
      "AREA: 6\n",
      "PERIMETER: 10\n"
     ]
    }
   ],
   "source": [
    "# Question 2\n",
    "class Shape:\n",
    "    def __init__(self, x, y):\n",
    "        self.x = x\n",
    "        self.y = y\n",
    "    def area(self):\n",
    "        print(\"AREA: \"+str(self.x * self.y))\n",
    "    def perimeter(self):\n",
    "        print(\"PERIMETER: \"+str(2*(self.x + self.y)))\n",
    "        \n",
    "class Rectangle(Shape):    # Inheritance\n",
    "    def __init__(self, x, y):\n",
    "        self.x = x\n",
    "        self.y = y\n",
    "        \n",
    "l = int(input(\"Enter the length: \"))\n",
    "b = int(input(\"Enter the breadth: \"))\n",
    "s = Rectangle(l, b)\n",
    "s.area()\n",
    "s.perimeter()"
   ]
  },
  {
   "cell_type": "code",
   "execution_count": 15,
   "metadata": {},
   "outputs": [
    {
     "name": "stdout",
     "output_type": "stream",
     "text": [
      "<class 'generator'>\n",
      "n\n",
      "o\n",
      "h\n",
      "t\n",
      "y\n",
      "p\n"
     ]
    }
   ],
   "source": [
    "# Question 3\n",
    "def reverse_string(word):\n",
    "    word1 = word[-1::-1]\n",
    "    for i in word1:\n",
    "        yield i\n",
    "\n",
    "gen_obj = reverse_string(\"python\")\n",
    "\n",
    "print(type(gen_obj))   # generator\n",
    "\n",
    "for char in gen_obj:\n",
    "    print(char)"
   ]
  },
  {
   "cell_type": "code",
   "execution_count": null,
   "metadata": {},
   "outputs": [],
   "source": []
  },
  {
   "cell_type": "code",
   "execution_count": null,
   "metadata": {},
   "outputs": [],
   "source": []
  },
  {
   "cell_type": "code",
   "execution_count": null,
   "metadata": {},
   "outputs": [],
   "source": []
  },
  {
   "cell_type": "code",
   "execution_count": null,
   "metadata": {},
   "outputs": [],
   "source": []
  },
  {
   "cell_type": "code",
   "execution_count": null,
   "metadata": {},
   "outputs": [],
   "source": []
  },
  {
   "cell_type": "code",
   "execution_count": null,
   "metadata": {},
   "outputs": [],
   "source": []
  },
  {
   "cell_type": "code",
   "execution_count": null,
   "metadata": {},
   "outputs": [],
   "source": []
  },
  {
   "cell_type": "code",
   "execution_count": null,
   "metadata": {},
   "outputs": [],
   "source": []
  },
  {
   "cell_type": "code",
   "execution_count": null,
   "metadata": {},
   "outputs": [],
   "source": []
  },
  {
   "cell_type": "code",
   "execution_count": null,
   "metadata": {},
   "outputs": [],
   "source": []
  },
  {
   "cell_type": "code",
   "execution_count": null,
   "metadata": {},
   "outputs": [],
   "source": []
  },
  {
   "cell_type": "code",
   "execution_count": null,
   "metadata": {},
   "outputs": [],
   "source": []
  },
  {
   "cell_type": "code",
   "execution_count": null,
   "metadata": {},
   "outputs": [],
   "source": []
  }
 ],
 "metadata": {
  "kernelspec": {
   "display_name": "Python 3",
   "language": "python",
   "name": "python3"
  },
  "language_info": {
   "codemirror_mode": {
    "name": "ipython",
    "version": 3
   },
   "file_extension": ".py",
   "mimetype": "text/x-python",
   "name": "python",
   "nbconvert_exporter": "python",
   "pygments_lexer": "ipython3",
   "version": "3.6.11"
  }
 },
 "nbformat": 4,
 "nbformat_minor": 4
}
