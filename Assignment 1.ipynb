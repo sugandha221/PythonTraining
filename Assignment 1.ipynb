{
 "cells": [
  {
   "cell_type": "code",
   "execution_count": 2,
   "metadata": {},
   "outputs": [
    {
     "name": "stdout",
     "output_type": "stream",
     "text": [
      "Enter the length of the carpet(in metres): 5\n",
      "Enter the breadth of the carpet(in metres): 6\n",
      "Cost of the carpet is 3000.0 Rupees\n"
     ]
    }
   ],
   "source": [
    "# Question 1\n",
    "length = float(input(\"Enter the length of the carpet(in metres): \"))\n",
    "breadth = float(input(\"Enter the breadth of the carpet(in metres): \"))\n",
    "cost = length*breadth*100    # Cost Calculation\n",
    "print(\"Cost of the carpet is \" + str(round(cost, 2)) + \" Rupees\")\n"
   ]
  },
  {
   "cell_type": "code",
   "execution_count": 3,
   "metadata": {},
   "outputs": [
    {
     "name": "stdout",
     "output_type": "stream",
     "text": [
      "Enter the radius of the cylinder(in metres): 7\n",
      "Enter the height of the cylinder(in metres): 6\n",
      "Volume of the cylinder is 924.0 cu. metres\n"
     ]
    }
   ],
   "source": [
    "# Question 2\n",
    "radius = float(input(\"Enter the radius of the cylinder(in metres): \"))\n",
    "height = float(input(\"Enter the height of the cylinder(in metres): \"))\n",
    "volume = 22/7*(radius**2)*height    # Volume Calculation\n",
    "print(\"Volume of the cylinder is \" + str(round(volume, 2)) + \" cu. metres\")\n"
   ]
  },
  {
   "cell_type": "code",
   "execution_count": 5,
   "metadata": {},
   "outputs": [
    {
     "name": "stdout",
     "output_type": "stream",
     "text": [
      "Enter the Principal Amount(in Rupees): 1000\n",
      "Enter the Rate of Interest(in percentage): 12\n",
      "Enter the Time(in Years): 2\n",
      "Future amount is 1240.0 Rupees\n"
     ]
    }
   ],
   "source": [
    "# Question 3\n",
    "principal = float(input(\"Enter the Principal Amount(in Rupees): \"))\n",
    "rate = float(input(\"Enter the Rate of Interest(in percentage): \"))\n",
    "time = float(input(\"Enter the Time(in Years): \"))\n",
    "si = principal*rate*time/100 + principal\n",
    "print(\"Future amount is \" + str(round(si, 2)) + \" Rupees\")\n"
   ]
  },
  {
   "cell_type": "code",
   "execution_count": null,
   "metadata": {},
   "outputs": [],
   "source": []
  },
  {
   "cell_type": "code",
   "execution_count": null,
   "metadata": {},
   "outputs": [],
   "source": []
  }
 ],
 "metadata": {
  "kernelspec": {
   "display_name": "Python 3",
   "language": "python",
   "name": "python3"
  },
  "language_info": {
   "codemirror_mode": {
    "name": "ipython",
    "version": 3
   },
   "file_extension": ".py",
   "mimetype": "text/x-python",
   "name": "python",
   "nbconvert_exporter": "python",
   "pygments_lexer": "ipython3",
   "version": "3.6.11"
  }
 },
 "nbformat": 4,
 "nbformat_minor": 4
}
